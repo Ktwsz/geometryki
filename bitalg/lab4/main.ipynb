{
 "cells": [
  {
   "cell_type": "markdown",
   "metadata": {
    "collapsed": false
   },
   "source": [
    "# Algotytm przecinania się odcinków na płaszczyźnie"
   ]
  },
  {
   "cell_type": "code",
   "execution_count": 1,
   "metadata": {},
   "outputs": [],
   "source": [
    "import numpy as np\n",
    "import pandas as pd\n",
    "from bitalg.tests.test4 import Test\n",
    "from bitalg.visualizer.main import Visualizer"
   ]
  },
  {
   "cell_type": "markdown",
   "metadata": {
    "collapsed": false
   },
   "source": [
    "# Przydatne funkcje "
   ]
  },
  {
   "cell_type": "code",
   "execution_count": null,
   "metadata": {
    "collapsed": false
   },
   "outputs": [],
   "source": [
    "def draw_example_1():\n",
    "    # TODO narysowac to uzywając naszego narzędzia do wizualizacji\n",
    "    vis = Visualizer()\n",
    "    line_segments = ((-0.5, 0.5), (8.5, 3.5),\n",
    "                     (1, 3), (7, 5),\n",
    "                     (2, 4), (5, 1),\n",
    "                     (4.5, 3), (6.5, 6),\n",
    "                     (0, 5), (5.5, 5.5))\n",
    "\n",
    "    vis.add_line_segment(line_segments)\n",
    "    vis.show()\n",
    "    \n",
    "def draw_example_2():\n",
    "    # TODO narysowac to uzywając naszego narzędzia do wizualizacji\n",
    "    vis = Visualizer()\n",
    "    line_segments = ((-0.5, 0.5), (8.5, 3.5),\n",
    "                     (1, 3), (7, 5),\n",
    "                     (2, 4), (5, 1),\n",
    "                     (4.5, 3), (6.5, 6),\n",
    "                     (0, 5), (5.5, 5.5))\n",
    "    points = [(4, 2),\n",
    "              (2.5, 3.5),\n",
    "              (5.5, 4.5)]\n",
    "\n",
    "    vis.add_line_segment(line_segments)\n",
    "    vis.add_point(points, color='red')\n",
    "    vis.show()\n"
   ]
  },
  {
   "cell_type": "markdown",
   "metadata": {
    "collapsed": false
   },
   "source": [
    "### Wprowadzenie\n",
    "Celem ćwiczenia jest implementacja i zapoznanie się z algorytmem wyznaczającym wszystkie przecięcia się odcinków na płaszczyźnie"
   ]
  },
  {
   "cell_type": "markdown",
   "metadata": {
    "collapsed": false
   },
   "source": [
    "### Przykładowy zbiór odcinków przed wyznaczeniem punktów przecięcia"
   ]
  },
  {
   "cell_type": "code",
   "execution_count": null,
   "metadata": {
    "collapsed": false
   },
   "outputs": [],
   "source": [
    "draw_example_1()"
   ]
  },
  {
   "cell_type": "markdown",
   "metadata": {
    "collapsed": false
   },
   "source": [
    "### Przykładowy zbiór odcinków po wyznaczenu punktów przecięcia"
   ]
  },
  {
   "cell_type": "code",
   "execution_count": null,
   "metadata": {
    "collapsed": false
   },
   "outputs": [],
   "source": [
    "draw_example_2()"
   ]
  },
  {
   "cell_type": "markdown",
   "metadata": {
    "collapsed": false
   },
   "source": [
    "# Generowanie losowych odcinków na płaszczyźnie"
   ]
  },
  {
   "cell_type": "markdown",
   "metadata": {
    "collapsed": false
   },
   "source": [
    "Uzupełnij funkcję ```generate_uniform_sections```"
   ]
  },
  {
   "cell_type": "code",
   "execution_count": null,
   "metadata": {
    "collapsed": false
   },
   "outputs": [],
   "source": [
    "def generate_uniform_sections(max_x, max_y, n):\n",
    "    \"\"\"\n",
    "    Funkcja generuje odcinki o współrzędnych rzeczywistych w postaci par punktów. \n",
    "    Żaden wygenerowany odcinek nie jest odcinkiem pionowym.\n",
    "    Żadne dwa odcinki nie mają swoich końców o takiej samej współrzędnej x.\n",
    "    Zakres współrzędnych: x -> (0, max_x), y -> (0, max_y)\n",
    "    :param max_x: określa maksymalną wartość współrzednej x jaka może zostać wylosowana\n",
    "    :param max_y: określa maksymalną wartość współrzednej y jaka może zostać wylosowana\n",
    "    :param n: ilość generowanych odcinków\n",
    "    :return: tablica odcinków w postaci krotek zawierających parę krotek współrzędnych punktów końcowych odcinków\n",
    "    np. [((x1, y1), (x2, y2)), ((x3, y3), (x4, y4)),...]\n",
    "    \"\"\"\n",
    "    raise Exception(\"Unimplemented\")"
   ]
  },
  {
   "cell_type": "code",
   "execution_count": null,
   "metadata": {
    "collapsed": false
   },
   "outputs": [],
   "source": [
    "Test().runtest(1, generate_uniform_sections)"
   ]
  },
  {
   "cell_type": "markdown",
   "metadata": {
    "collapsed": false
   },
   "source": [
    "<span style=\"color:red\">Ćw.</span> Wygeneruj $\\large20$ losowych odcinków w przestrzeni 2D o współrzędnych z przedziału $\\large x \\in \\langle 0,1000 \\rangle$ oraz $\\large y \\in \\langle 0,1000\\rangle$. "
   ]
  },
  {
   "cell_type": "code",
   "execution_count": null,
   "metadata": {
    "collapsed": false
   },
   "outputs": [],
   "source": [
    "# section = ..."
   ]
  },
  {
   "cell_type": "markdown",
   "metadata": {
    "collapsed": false
   },
   "source": [
    "Zwizualizuj otrzymane odcinki"
   ]
  },
  {
   "cell_type": "code",
   "execution_count": null,
   "metadata": {
    "collapsed": false
   },
   "outputs": [],
   "source": [
    "# ..."
   ]
  },
  {
   "cell_type": "markdown",
   "metadata": {
    "collapsed": false
   },
   "source": [
    "Uzupełnij funkcję ```add_sections``` #interaktywne dodawanie odcinków przez rysowanie myszką (jak?) TODO"
   ]
  },
  {
   "cell_type": "code",
   "execution_count": null,
   "metadata": {
    "collapsed": false
   },
   "outputs": [],
   "source": [
    "# def add_sections(sections):"
   ]
  },
  {
   "cell_type": "markdown",
   "metadata": {
    "collapsed": false
   },
   "source": [
    "Uzupełnij funkcję ```is_intersection```"
   ]
  },
  {
   "cell_type": "code",
   "execution_count": null,
   "metadata": {
    "collapsed": false
   },
   "outputs": [],
   "source": [
    "def is_intersection(sections):\n",
    "    \"\"\"\n",
    "    Funkcja sprawdza czy jakakolwiek para podanych odcinków się przecina \n",
    "    :param sections: tablica odcinków w postaci krotek krotek współrzędnych punktów końcowych odcinków\n",
    "    :param eps: epsilon będący dokładnością, z jaką porównujemy liczby zmiennoprzecinkowe\n",
    "    :return: True / False\n",
    "    \"\"\"\n",
    "    raise Exception(\"Unimplemented\")"
   ]
  },
  {
   "cell_type": "code",
   "execution_count": null,
   "metadata": {
    "collapsed": false
   },
   "outputs": [],
   "source": [
    "Test().runtest(2, is_intersection)"
   ]
  },
  {
   "cell_type": "markdown",
   "metadata": {
    "collapsed": false
   },
   "source": [
    "### W jaki sposób zaimplementowałeś struktura stanu (stan miotły) oraz struktura zdarzeń w Twoim programie?"
   ]
  },
  {
   "cell_type": "markdown",
   "metadata": {
    "collapsed": false
   },
   "source": [
    "Odpowiedź here"
   ]
  },
  {
   "cell_type": "markdown",
   "metadata": {
    "collapsed": false
   },
   "source": [
    "Uzupełnij funkcję ```is_intersection_with_visualization```"
   ]
  },
  {
   "cell_type": "code",
   "execution_count": null,
   "metadata": {
    "collapsed": false
   },
   "outputs": [],
   "source": [
    "def is_intersection_with_visualization(sections): # TODO wizualizacja (jak?)\n",
    "    \"\"\"\n",
    "    Funkcja sprawdza czy jakakolwiek para podanych odcinków się przecina i dodatkowo zwraca kolejne kroki w wizualizacji \n",
    "    :param sections: tablica odcinków w postaci krotek ktorek współrzędnych punktów końcowych odcinków\n",
    "    :return: True / False\n",
    "    \"\"\"\n",
    "    raise Exception(\"Unimplemented\")"
   ]
  },
  {
   "cell_type": "markdown",
   "metadata": {
    "collapsed": false
   },
   "source": [
    "Uzupełnij funkcję ```find_intersections```"
   ]
  },
  {
   "cell_type": "code",
   "execution_count": null,
   "metadata": {
    "collapsed": false
   },
   "outputs": [],
   "source": [
    "def find_intersections(sections):\n",
    "    \"\"\"\n",
    "    Funkcja znajduje wszystkie przecięcia zadanych odcinków\n",
    "    :param sections: tablica odcinków w postaci krotek ktorek współrzędnych punktów końcowych odcinków\n",
    "    :return: tablica punktów przecięć w postaci trzyelementowych krotek w których pierwszym elementem są współrzędne danego punktu, a drugim i trzecim indeksy prostych z listy wejściowej, które się przecinają w tym punkcie współrzędnych np.:\n",
    "    [((x1, y1), id1,id2),\n",
    "    ((x2, y2), id3, id4),\n",
    "    ...]\n",
    "    \"\"\"\n",
    "    raise Exception(\"Unimplemented\")"
   ]
  },
  {
   "cell_type": "code",
   "execution_count": null,
   "metadata": {
    "collapsed": false
   },
   "outputs": [],
   "source": [
    "Test().runtest(3, find_intersections)"
   ]
  },
  {
   "cell_type": "markdown",
   "metadata": {
    "collapsed": false
   },
   "source": [
    "Uzupełnij funkcję ```find_intersections_with_visualization```"
   ]
  },
  {
   "cell_type": "code",
   "execution_count": null,
   "metadata": {
    "collapsed": false
   },
   "outputs": [],
   "source": [
    "def find_intersections_with_visualization(sections): # TODO wizualizacja (jak?)\n",
    "    \"\"\"\n",
    "    Funkcja znajduje wszystkie przecięcia zadanych odcinków i dodatkowo zwraca kolejne kroki w wizualizacji \n",
    "    :param sections: tablica odcinków w postaci krotek ktorek współrzędnych punktów końcowych odcinków\n",
    "    :return: tablica punktów przecięć w postaci trzyelementowych krotek w których pierwszym elementem są współrzędne danego punktu, a drugim i trzecim indeksy prostych z listy wejściowej, które się przecinają w tym punkcie współrzędnych np.:\n",
    "    [((x1, y1), id1,id2),\n",
    "    ((x2, y2), id3, id4),\n",
    "    ...]\n",
    "    \"\"\""
   ]
  },
  {
   "cell_type": "markdown",
   "metadata": {
    "collapsed": false
   },
   "source": [
    "### Czy konieczne były zmiany w strukturze zdarzeń. Jeśli tak, to jakie? Czy w przypadku obu algorytmów konieczne są takie same struktury zdarzeń?\n",
    "### Odpowiedź uzasadnij. "
   ]
  },
  {
   "cell_type": "markdown",
   "metadata": {
    "collapsed": false
   },
   "source": [
    "Odpowiedź here"
   ]
  },
  {
   "cell_type": "markdown",
   "metadata": {
    "collapsed": false
   },
   "source": [
    "### Jak obsługiwane są zdarzenia początku odcinka, końca odcinka i przecięcia odcinków z uwzględnianiem wybranych struktur danych?"
   ]
  },
  {
   "cell_type": "markdown",
   "metadata": {
    "collapsed": false
   },
   "source": [
    "Odpowiedź here"
   ]
  },
  {
   "cell_type": "markdown",
   "metadata": {
    "collapsed": false
   },
   "source": [
    "### Samemu zaprojektuj test, który uwzględnia taki układ odcinków, przy którym pewne przecięcia będą wykrywane więcej niż jeden raz"
   ]
  },
  {
   "cell_type": "code",
   "execution_count": null,
   "metadata": {
    "collapsed": false
   },
   "outputs": [],
   "source": [
    "# testing_sections = ???"
   ]
  },
  {
   "cell_type": "code",
   "execution_count": null,
   "metadata": {
    "collapsed": false
   },
   "outputs": [],
   "source": [
    "### Czy Twój program uwzględnia powyższy przypadek? Jeśli tak, to jak? "
   ]
  },
  {
   "cell_type": "markdown",
   "metadata": {
    "collapsed": false
   },
   "source": [
    "Odpowiedź here"
   ]
  },
  {
   "cell_type": "markdown",
   "metadata": {
    "collapsed": false
   },
   "source": [
    "### Zadanie dodatkowe\n",
    "Zaimplementuj inną strukturę stanu. Opisz ją w sprawozdaniu. Porównaj efektywność algorytmu dla obu struktur robiąc testy na odpowiednio dużych zestawach odcinków."
   ]
  },
  {
   "cell_type": "code",
   "execution_count": null,
   "metadata": {
    "collapsed": false
   },
   "outputs": [],
   "source": []
  }
 ],
 "metadata": {
  "kernelspec": {
   "display_name": "Python 3 (ipykernel)",
   "language": "python",
   "name": "python3"
  },
  "language_info": {
   "codemirror_mode": {
    "name": "ipython",
    "version": 3
   },
   "file_extension": ".py",
   "mimetype": "text/x-python",
   "name": "python",
   "nbconvert_exporter": "python",
   "pygments_lexer": "ipython3",
   "version": "3.9.18"
  },
  "orig_nbformat": 4
 },
 "nbformat": 4,
 "nbformat_minor": 2
}
